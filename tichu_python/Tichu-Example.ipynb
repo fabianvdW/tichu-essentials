{
 "cells": [
  {
   "cell_type": "markdown",
   "id": "c4f6f6ef-2064-47d0-ad12-402235f646b6",
   "metadata": {},
   "source": [
    "In diesem Notebook erkläre ich kurz beispielhaft die Funktionalität der tichu_rustipy Bibliothek zum Laden, manipulieren und Auswerten der BrettSpielWelt Daten.\n",
    "Wir beginnen mit dem Import:"
   ]
  },
  {
   "cell_type": "code",
   "execution_count": 3,
   "id": "5453f9e3-3858-4b3d-bab6-8620b277a325",
   "metadata": {},
   "outputs": [],
   "source": [
    "import tichu_rustipy as tr"
   ]
  },
  {
   "cell_type": "markdown",
   "id": "2e01faf2-e3ff-4c6e-a3ba-bbb4f91b9e40",
   "metadata": {},
   "source": [
    "Das Laden des Datensatzes ist sehr simpel und erfolgt über die Angabe des Pfades der .db files:"
   ]
  },
  {
   "cell_type": "code",
   "execution_count": 4,
   "id": "c0514138-cab1-4f47-bb6f-c797b6906121",
   "metadata": {},
   "outputs": [],
   "source": [
    "db = tr.BSWSimple(\"../tichu_rust/bsw_filtered.db\")"
   ]
  },
  {
   "cell_type": "code",
   "execution_count": 9,
   "id": "74759c0a-2cb1-4e2a-8fc4-feb93e1dde58",
   "metadata": {},
   "outputs": [
    {
     "name": "stdout",
     "output_type": "stream",
     "text": [
      "Help on built-in function len:\n",
      "\n",
      "len() method of builtins.BSWSimple instance\n",
      "    Get the total number of rounds\n",
      "\n",
      "    Returns:\n",
      "        int: The number of rounds in the BSW file\n",
      "\n",
      "400881\n",
      "Help on built-in function get_round:\n",
      "\n",
      "get_round(index) method of builtins.BSWSimple instance\n",
      "    Get a specific round's data\n",
      "\n",
      "    Args:\n",
      "        index (int): The index of the round to retrieve\n",
      "\n",
      "    Returns:\n",
      "        Optional[List[PyPlayerRoundHand]]: The round data for all players,\n",
      "        or None if the index is out of bounds\n",
      "\n",
      "[<builtins.PyPlayerRoundHand object at 0x00000289DC7BDB30>, <builtins.PyPlayerRoundHand object at 0x00000289DC7E5350>, <builtins.PyPlayerRoundHand object at 0x00000289DC7E52F0>, <builtins.PyPlayerRoundHand object at 0x00000289DC7E4F30>]\n"
     ]
    }
   ],
   "source": [
    "help(db.len)\n",
    "print(db.len())\n",
    "help(db.get_round)\n",
    "print(db.get_round(0))"
   ]
  },
  {
   "cell_type": "markdown",
   "id": "e403f69c-fc62-4538-a6e0-1d0aeed6039f",
   "metadata": {},
   "source": [
    "Jede gespielte Runde besteht aus einer Liste aus 4 `PyPlayerRoundHand` Objekten.\n",
    "Dabei gehören Index 0 und 2 sowie 1 und 3 zum selben Team. Index 1 sitzt rechts von Index 0, Index 2 rechts von Index 1, usw.\n",
    "Das `PyPlayerRoundHand` Objekt enthält alle Informationen die man braucht, und stellt einige Funktionen zur Verfügung:"
   ]
  },
  {
   "cell_type": "code",
   "execution_count": 10,
   "id": "ff6e4d37-00c4-4353-9082-6d292f113af4",
   "metadata": {},
   "outputs": [
    {
     "name": "stdout",
     "output_type": "stream",
     "text": [
      "Help on class PyPlayerRoundHand in module builtins:\n",
      "\n",
      "class PyPlayerRoundHand(object)\n",
      " |  A Python wrapper for PlayerRoundHand representing a player's round in Tichu\n",
      " |\n",
      " |  This class provides access to a player's cards, exchanges, calls, and round statistics\n",
      " |  throughout different phases of a Tichu round.\n",
      " |\n",
      " |  Methods defined here:\n",
      " |\n",
      " |  is_double_win_team_1(self, /)\n",
      " |      Check if Team 1 achieved a double win\n",
      " |\n",
      " |      Returns:\n",
      " |          bool: True if Team 1 (players 0 and 2) finished 1-2\n",
      " |\n",
      " |  is_double_win_team_2(self, /)\n",
      " |      Check if Team 2 achieved a double win\n",
      " |\n",
      " |      Returns:\n",
      " |          bool: True if Team 2 (players 1 and 3) finished 1-2\n",
      " |\n",
      " |  left_in_exchange_card(self, /)\n",
      " |      Get the card received from the left player during exchange\n",
      " |\n",
      " |      Returns:\n",
      " |          CardIndex: The index of the card received from left\n",
      " |\n",
      " |  left_out_exchange_card(self, /)\n",
      " |      Get the card given to the left player during exchange\n",
      " |\n",
      " |      Returns:\n",
      " |          CardIndex: The index of the card passed left\n",
      " |\n",
      " |  partner_in_exchange_card(self, /)\n",
      " |      Get the card received from the partner during exchange\n",
      " |\n",
      " |      Returns:\n",
      " |          CardIndex: The index of the card received from partner\n",
      " |\n",
      " |  partner_out_exchange_card(self, /)\n",
      " |      Get the card given to the partner during exchange\n",
      " |\n",
      " |      Returns:\n",
      " |          CardIndex: The index of the card passed to partner\n",
      " |\n",
      " |  player_call(self, /, player_id)\n",
      " |      Get a player's Tichu call\n",
      " |\n",
      " |      Args:\n",
      " |          player_id (PlayerIDInternal): The ID of the player\n",
      " |\n",
      " |      Returns:\n",
      " |          TichuCall: The type of Tichu call made by the player\n",
      " |          0 <=> No Call Made\n",
      " |          1 <=> Tichu Call\n",
      " |          2 <=> Grand Tichu Call\n",
      " |\n",
      " |  player_id(self, /)\n",
      " |      Get this player's ID\n",
      " |\n",
      " |      Returns:\n",
      " |          PlayerIDInternal: The ID of this player (0-3)\n",
      " |\n",
      " |  player_rank(self, /, player_id)\n",
      " |      Get a player's finishing rank in the round\n",
      " |\n",
      " |      Args:\n",
      " |          player_id (PlayerIDInternal): The ID of the player (0-3)\n",
      " |\n",
      " |      Returns:\n",
      " |          Rank: The rank (order of finishing) for the specified player\n",
      " |          0 <=> Rank 1\n",
      " |          1 <=> Rank 2\n",
      " |          2 <=> Rank 3\n",
      " |          3 <=> Rank 4\n",
      " |\n",
      " |  right_in_exchange_card(self, /)\n",
      " |      Get the card received from the right player during exchange\n",
      " |\n",
      " |      Returns:\n",
      " |          CardIndex: The index of the card received from right\n",
      " |\n",
      " |  right_out_exchange_card(self, /)\n",
      " |      Get the card given to the right player during exchange\n",
      " |\n",
      " |      Returns:\n",
      " |          CardIndex: The index of the card passed right\n",
      " |\n",
      " |  round_score(self, /)\n",
      " |      Get the round scores for both teams\n",
      " |\n",
      " |      Returns:\n",
      " |          tuple[Score, Score]: A tuple of (Team 1 score, Team 2 score)\n",
      " |\n",
      " |  round_score_relative_gain(self, /)\n",
      " |      Get the relative score gain for this player's team\n",
      " |\n",
      " |      Returns:\n",
      " |          Score: The net points gained by this player's team\n",
      " |\n",
      " |  ----------------------------------------------------------------------\n",
      " |  Static methods defined here:\n",
      " |\n",
      " |  __new__(*args, **kwargs)\n",
      " |      Create and return a new object.  See help(type) for accurate signature.\n",
      " |\n",
      " |  ----------------------------------------------------------------------\n",
      " |  Data descriptors defined here:\n",
      " |\n",
      " |  extras\n",
      " |      Get additional round information encoded as a bitmap\n",
      " |\n",
      " |      Returns:\n",
      " |          int: Encoded round information\n",
      " |\n",
      " |  final_14\n",
      " |      Get the player's final hand after exchanges\n",
      " |\n",
      " |      Returns:\n",
      " |          Hand: The player's complete hand after all exchanges\n",
      " |\n",
      " |  first_14\n",
      " |      Get the 14 cards initially dealt to the player\n",
      " |\n",
      " |      Returns:\n",
      " |          Hand: The complete initial deal before exchanges\n",
      " |\n",
      " |  first_8\n",
      " |      Get the first 8 cards dealt to the player\n",
      " |\n",
      " |      Returns:\n",
      " |          Hand: The first 8 cards of the initial deal\n",
      "\n"
     ]
    }
   ],
   "source": [
    "help(tr.PyPlayerRoundHand)"
   ]
  },
  {
   "cell_type": "markdown",
   "id": "1bcab3c4-f904-4257-8848-d2490a5df1df",
   "metadata": {},
   "source": [
    "Beispielsweise können über `.first_8`, `.first_14`, `.final_14` die Karten zu den jeweiligen  Zeitpunkten abgefragt werden:"
   ]
  },
  {
   "cell_type": "code",
   "execution_count": 18,
   "id": "3a1d4d66-1a08-49c9-99ee-682129e06766",
   "metadata": {},
   "outputs": [
    {
     "name": "stdout",
     "output_type": "stream",
     "text": [
      "607480451170321\n",
      "883594482411372561\n",
      "885278938511704081\n",
      "<class 'int'>\n"
     ]
    }
   ],
   "source": [
    "player_0_round_0 = db.get_round(0)[0]\n",
    "print(player_0_round_0.first_8)\n",
    "print(player_0_round_0.first_14)\n",
    "print(player_0_round_0.final_14)\n",
    "print(type(player_0_round_0.final_14))"
   ]
  },
  {
   "cell_type": "markdown",
   "id": "7a5f38dd-49b1-4d3c-b712-db0455220b23",
   "metadata": {},
   "source": [
    "🤔 Das Ergebnis ist also jeweils ein 'int'. Wie stellt dieser denn die Hand da? Was sollen mir die Zahlen sagen?\n",
    "\n",
    "Dafür müssen wir die Handdatenstruktur etwas besser verstehen.\n",
    "In Tichu gibt es 56 Karten. Jeder Karte wird ein eindeutiger fester Index zwischen 0 und 63 gegeben. Jetzt ist das zugehörige Bit in dem Integer gesetzt (ein Integer ist ja gerade eine Menge an Bits), genau dann, wenn die Karte vorliegt oder eben nicht.\n",
    "\n",
    "Wir kauen das an einem Beispiel nochmal durch. Zunächst bietet die Bibliothek schon etwas Funktionalität zum Darstellen einer Hand, damit wir es besser verstehen können:"
   ]
  },
  {
   "cell_type": "code",
   "execution_count": 19,
   "id": "ae1d7ab6-e4c3-4a25-9874-a7cbbfed9495",
   "metadata": {},
   "outputs": [
    {
     "data": {
      "text/html": [
       "<span style=\"color: red\">2</span><span style=\"color: yellow\">5</span><span style=\"color: dodgerblue \">8</span><span style=\"color: green\">8</span><span style=\"color: green\">Q</span><span style=\"color: dodgerblue \">K</span><span style=\"color: green\">A</span>🐦"
      ],
      "text/plain": [
       "<IPython.core.display.HTML object>"
      ]
     },
     "metadata": {},
     "output_type": "display_data"
    }
   ],
   "source": [
    "from IPython.display import display, HTML\n",
    "\n",
    "def display_colored_hand(hand):\n",
    "    hand_str = tr.print_hand(hand)\n",
    "    # Convert ANSI escape codes to HTML\n",
    "    hand_str = (hand_str\n",
    "        .replace('\\x1b[31m', '<span style=\"color: red\">')\n",
    "        .replace('\\x1b[32m', '<span style=\"color: green\">')\n",
    "        .replace('\\x1b[33m', '<span style=\"color: yellow\">')\n",
    "        .replace('\\x1b[34m', '<span style=\"color: dodgerblue \">')\n",
    "        .replace('\\x1b[0m', '</span>')\n",
    "    )\n",
    "    display(HTML(hand_str))\n",
    "display_colored_hand(player_0_round_0.first_8)"
   ]
  },
  {
   "cell_type": "markdown",
   "id": "61257de4-32bf-48be-967b-36f25ed04110",
   "metadata": {},
   "source": [
    "Die ersten 8 Karten sind also die rote 2, die gelbe 5, blaue 8, grüne 8, grüne Q, blauer K, grünes A und der Phönix (Vogel).\n",
    "PS: Wenn ihr keinen DarkMode anhabt, könnt ihr Gelb auch zu einer anderen Farbe ändern. Das ist original ja schwarz, was ich wegen dem DarkMode geändert habe :D\n",
    "\n",
    "Das können wir auch in der Bit Representation sehen. Dafür brauchen wir aber erst einmal die Festlegung der Karten zu ihrem Index. Dafür gibt es folgendes CheatSheet:\n",
    "\n"
   ]
  },
  {
   "cell_type": "markdown",
   "id": "e8d62f86-bca5-438c-8ef3-c02b2183a685",
   "metadata": {},
   "source": [
    "Diese Markdown Zelle besser nicht ausführen :D\n",
    "Cards:\n",
    "\n",
    "| Red | Gre | Blu | Yel |\n",
    "|  A  |  A  |  A  |  A  |\n",
    "|  K  |  K  |  K  |  K  |\n",
    "|  Q  |  Q  |  Q  |  Q  |\n",
    "|  J  |  J  |  J  |  J  |\n",
    "|  T  |  T  |  T  |  T  |\n",
    "|  9  |  9  |  9  |  9  |\n",
    "|  8  |  8  |  8  |  8  |\n",
    "|  7  |  7  |  7  |  7  |\n",
    "|  6  |  6  |  6  |  6  |\n",
    "|  5  |  5  |  5  |  5  |\n",
    "|  4  |  4  |  4  |  4  |\n",
    "|  3  |  3  |  3  |  3  |\n",
    "|  2  |  2  |  2  |  2  |\n",
    "|  1  | Dr  | Dog | Ph  |\n",
    "\n",
    "Map to the following Bit Number:\n",
    "\n",
    "| Red | Gre | Blu | Yel |\n",
    "| 61  | 45  | 29  | 13  |\n",
    "| 60  | 44  | 28  | 12  |\n",
    "| 59  | 43  | 27  | 11  |\n",
    "| 58  | 42  | 26  | 10  |\n",
    "| 57  | 41  | 25  |  9  |\n",
    "| 56  | 40  | 24  |  8  |\n",
    "| 55  | 39  | 23  |  7  |\n",
    "| 54  | 38  | 22  |  6  |\n",
    "| 53  | 37  | 21  |  5  |\n",
    "| 52  | 36  | 20  |  4  |\n",
    "| 51  | 35  | 19  |  3  |\n",
    "| 50  | 34  | 18  |  2  |\n",
    "| 49  | 33  | 17  |  1  |\n",
    "| 48  | 32  | 16  |  0  |"
   ]
  },
  {
   "cell_type": "markdown",
   "id": "84d53b8f-cb0c-4214-9da2-f7b7da433334",
   "metadata": {},
   "source": [
    "Schauen wir uns jetzt obige Hand noch einmal in Bit Representation an:"
   ]
  },
  {
   "cell_type": "code",
   "execution_count": 20,
   "id": "1250db3d-8c0e-4e64-b66b-a9970ef74089",
   "metadata": {},
   "outputs": [
    {
     "data": {
      "text/plain": [
       "'0b10001010001000000000010000100000000000000000010001'"
      ]
     },
     "execution_count": 20,
     "metadata": {},
     "output_type": "execute_result"
    }
   ],
   "source": [
    "bin(player_0_round_0.first_8)"
   ]
  },
  {
   "cell_type": "markdown",
   "id": "90a4a01f-7800-4725-ba95-011a8fcff4a3",
   "metadata": {},
   "source": [
    "Zählt man nach, sieht man also, dass Bit 0, Bit 4, usw. gesetzt sind, was den obigen Karten entspricht.\n",
    "Je nachdem wie fit ihr mit Bit Logik seid, ist das eine sehr natürliche Darstellung. Hier noch etwas Hilfestellung, wie man so bspw. über eine Hand iterieren kann:"
   ]
  },
  {
   "cell_type": "code",
   "execution_count": 35,
   "id": "94f3ee2c-5b0c-44fe-baf7-0181fbe13d8d",
   "metadata": {},
   "outputs": [
    {
     "name": "stdout",
     "output_type": "stream",
     "text": [
      "0\n",
      "4\n",
      "23\n",
      "28\n",
      "39\n",
      "43\n",
      "45\n",
      "49\n"
     ]
    }
   ],
   "source": [
    "#Fundamental bit manipulation syntax in python:\n",
    "# Binary typing of values: value = 0b11 (value=3)\n",
    "# Bit-Or: | \n",
    "#Example: 0b01 | 0b10 = 0b11\n",
    "# Bit-And: & \n",
    "#Example: 0b11 & 0b10 = 0b10\n",
    "# Bit-Xor: ^ \n",
    "#Example: 0b11 ^ 0b10 = 0b01\n",
    "# Not: ~\n",
    "#Example: ~0b01 = 0b1111......11101 (depends on lenght of integers)\n",
    "# Bit-Shift Inwards: <<\n",
    "#Example 1<<3 = 0b1000\n",
    "# Bit-Shift Outwards: >>\n",
    "#Example 0b1001 >> 2 = 0b0010\n",
    "\n",
    "hand = player_0_round_0.first_8\n",
    "while hand !=0:\n",
    "    lsb = (hand & -hand).bit_length() - 1\n",
    "    print(lsb)\n",
    "    hand = hand & ~(1<<lsb)"
   ]
  },
  {
   "cell_type": "markdown",
   "id": "be3d3682-e9b2-409e-8f70-fdbb1f3dcfc7",
   "metadata": {},
   "source": [
    "Die Nummerierung der Karten erfolgt übrigens mit System. Setzt man die Konstanten\n",
    "\n",
    "GELB=0\n",
    "BLAU=16\n",
    "GRÜN=32\n",
    "ROT=48\n",
    "\n",
    "und \n",
    "\n",
    "SPEZIAL = 0\n",
    "ZWEI=1\n",
    "DREI=2\n",
    "\n",
    "usw.\n",
    "Dann ist \n",
    "BLAU+ZWEI der Index der blauen Zwei, usw."
   ]
  },
  {
   "cell_type": "code",
   "execution_count": 46,
   "id": "4b024b10-a2bf-40e4-95c5-3d2c30957e29",
   "metadata": {},
   "outputs": [
    {
     "data": {
      "text/html": [
       "<span style=\"color: dodgerblue \">2</span>"
      ],
      "text/plain": [
       "<IPython.core.display.HTML object>"
      ]
     },
     "metadata": {},
     "output_type": "display_data"
    },
    {
     "data": {
      "text/html": [
       "<span style=\"color: dodgerblue \">2</span><span style=\"color: green\">3</span><span style=\"color: red\">A</span>"
      ],
      "text/plain": [
       "<IPython.core.display.HTML object>"
      ]
     },
     "metadata": {},
     "output_type": "display_data"
    },
    {
     "data": {
      "text/html": [
       "🐦"
      ],
      "text/plain": [
       "<IPython.core.display.HTML object>"
      ]
     },
     "metadata": {},
     "output_type": "display_data"
    },
    {
     "data": {
      "text/html": [
       "↺"
      ],
      "text/plain": [
       "<IPython.core.display.HTML object>"
      ]
     },
     "metadata": {},
     "output_type": "display_data"
    },
    {
     "data": {
      "text/html": [
       "🐉"
      ],
      "text/plain": [
       "<IPython.core.display.HTML object>"
      ]
     },
     "metadata": {},
     "output_type": "display_data"
    },
    {
     "data": {
      "text/html": [
       "1"
      ],
      "text/plain": [
       "<IPython.core.display.HTML object>"
      ]
     },
     "metadata": {},
     "output_type": "display_data"
    }
   ],
   "source": [
    "def build_hand(*card_indices):\n",
    "    res = 0\n",
    "    for x in card_indices:\n",
    "        res |= 1<<x\n",
    "    return res\n",
    "    \n",
    "YELLOW=0\n",
    "BLUE=16\n",
    "GREEN=32\n",
    "RED=48\n",
    "SPECIAL_CARD=0\n",
    "TWO=1\n",
    "THREE=2\n",
    "ACE=13\n",
    "display_colored_hand(build_hand(BLUE+TWO))\n",
    "display_colored_hand(build_hand(BLUE+TWO, ACE+RED, GREEN+THREE))\n",
    "#Huch. Spezialkarten sind ... spezial:\n",
    "display_colored_hand(build_hand(SPECIAL_CARD+YELLOW)) \n",
    "display_colored_hand(build_hand(SPECIAL_CARD+BLUE)) \n",
    "display_colored_hand(build_hand(SPECIAL_CARD+GREEN)) \n",
    "display_colored_hand(build_hand(SPECIAL_CARD+RED)) "
   ]
  },
  {
   "cell_type": "markdown",
   "id": "847579b5-c244-4977-b3a1-d8f9a3dab911",
   "metadata": {},
   "source": [
    "Die oben definierten Kartenindizes werden auch von einigen Funktionen zurückgegeben. Interessiert man sich bspw. für die Karten, die dem Mitspieler geschpuft wurde:"
   ]
  },
  {
   "cell_type": "code",
   "execution_count": 33,
   "id": "c3b6d9ab-b94f-4fbe-ae36-c018bb79bfb5",
   "metadata": {},
   "outputs": [
    {
     "name": "stdout",
     "output_type": "stream",
     "text": [
      "43\n"
     ]
    },
    {
     "data": {
      "text/html": [
       "<span style=\"color: green\">Q</span>"
      ],
      "text/plain": [
       "<IPython.core.display.HTML object>"
      ]
     },
     "metadata": {},
     "output_type": "display_data"
    }
   ],
   "source": [
    "print(player_0_round_0.partner_out_exchange_card())\n",
    "display_colored_hand(build_hand(player_0_round_0.partner_out_exchange_card()))"
   ]
  },
  {
   "cell_type": "markdown",
   "id": "872ec5f7-642e-46dd-923f-8c71656afc60",
   "metadata": {},
   "source": [
    "Das war es soweit an einführender Erklärung. PyPlayerRoundHand bietet noch mehr Funktionen, schaut euch dafür einfach die help Funktion (siehe Oben) nochmal genauer an. Hier noch ein paar weiterführende Beispiele:"
   ]
  },
  {
   "cell_type": "code",
   "execution_count": 45,
   "id": "462accc3-08eb-4919-a346-efd0a6ab4084",
   "metadata": {},
   "outputs": [
    {
     "data": {
      "text/html": [
       "<span style=\"color: red\">4</span><span style=\"color: yellow\">5</span><span style=\"color: dodgerblue \">6</span><span style=\"color: red\">7</span><span style=\"color: green\">8</span><span style=\"color: dodgerblue \">9</span><span style=\"color: green\">J</span><span style=\"color: red\">J</span><span style=\"color: red\">Q</span><span style=\"color: dodgerblue \">K</span><span style=\"color: green\">A</span>🐦🐉1"
      ],
      "text/plain": [
       "<IPython.core.display.HTML object>"
      ]
     },
     "metadata": {},
     "output_type": "display_data"
    },
    {
     "name": "stdout",
     "output_type": "stream",
     "text": [
      "1\n",
      "Has Street of length 6:  True\n"
     ]
    },
    {
     "data": {
      "text/html": [
       "<span style=\"color: red\">2</span><span style=\"color: yellow\">5</span><span style=\"color: dodgerblue \">6</span><span style=\"color: red\">7</span><span style=\"color: dodgerblue \">8</span><span style=\"color: green\">8</span><span style=\"color: dodgerblue \">9</span><span style=\"color: red\">J</span><span style=\"color: green\">Q</span><span style=\"color: red\">Q</span><span style=\"color: dodgerblue \">K</span><span style=\"color: green\">A</span>🐦1"
      ],
      "text/plain": [
       "<IPython.core.display.HTML object>"
      ]
     },
     "metadata": {},
     "output_type": "display_data"
    },
    {
     "name": "stdout",
     "output_type": "stream",
     "text": [
      "Has Street of length 6:  False\n"
     ]
    }
   ],
   "source": [
    "#Determine number of aces in hand\n",
    "aces_hand = build_hand(YELLOW+ACE, BLUE+ACE, GREEN+ACE, RED+ACE)\n",
    "num_aces = (player_0_round_0.final_14 & aces_hand).bit_count()\n",
    "display_colored_hand(player_0_round_0.final_14)\n",
    "print(num_aces)\n",
    "\n",
    "#Determine if player has a street of length 6 without the phoenix\n",
    "FOUR, FIVE, SIX, SEVEN, EIGHT, NINE, TEN, JACK, QUEEN, KING = 3, 4, 5, 6, 7, 8, 9, 10, 11, 12\n",
    "MAHJONG = 48\n",
    "MASK_YELLOW_NORMAL_CARDS = build_hand(\n",
    "    TWO + YELLOW,\n",
    "    THREE + YELLOW,\n",
    "    FOUR + YELLOW,\n",
    "    FIVE + YELLOW,\n",
    "    SIX + YELLOW,\n",
    "    SEVEN + YELLOW,\n",
    "    EIGHT + YELLOW,\n",
    "    NINE + YELLOW,\n",
    "    TEN + YELLOW,\n",
    "    JACK + YELLOW,\n",
    "    QUEEN + YELLOW,\n",
    "    KING + YELLOW,\n",
    "    ACE + YELLOW\n",
    ")\n",
    "def has_street_length_6(hand):\n",
    "    hand_in_yellow = (hand >> BLUE) | (hand >> GREEN) | (hand >> RED) | hand\n",
    "    prepared_hand = (hand_in_yellow & MASK_YELLOW_NORMAL_CARDS) | ((hand >> MAHJONG) & 0b1)\n",
    "    return prepared_hand & (prepared_hand >> 1) & (prepared_hand >> 2) & (prepared_hand >> 3) & (prepared_hand >> 4)& (prepared_hand >> 5) != 0\n",
    "\n",
    "print(\"Has Street of length 6: \", has_street_length_6(player_0_round_0.final_14))\n",
    "display_colored_hand(player_0_round_0.first_14)\n",
    "print(\"Has Street of length 6: \", has_street_length_6(player_0_round_0.first_14))"
   ]
  }
 ],
 "metadata": {
  "kernelspec": {
   "display_name": "Python 3 (ipykernel)",
   "language": "python",
   "name": "python3"
  },
  "language_info": {
   "codemirror_mode": {
    "name": "ipython",
    "version": 3
   },
   "file_extension": ".py",
   "mimetype": "text/x-python",
   "name": "python",
   "nbconvert_exporter": "python",
   "pygments_lexer": "ipython3",
   "version": "3.13.2"
  }
 },
 "nbformat": 4,
 "nbformat_minor": 5
}
