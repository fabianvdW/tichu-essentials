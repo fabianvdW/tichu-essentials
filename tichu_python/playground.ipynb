{
 "cells": [
  {
   "cell_type": "code",
   "execution_count": 1,
   "id": "ae1d7ab6-e4c3-4a25-9874-a7cbbfed9495",
   "metadata": {},
   "outputs": [],
   "source": [
    "%load_ext autoreload\n",
    "%autoreload 2\n",
    "import tichu_rustipy as tr\n",
    "import numpy as np\n",
    "from IPython.display import display, HTML\n",
    "import pickle\n",
    "\n",
    "def display_colored_hand(hand_str):\n",
    "    # Convert ANSI escape codes to HTML\n",
    "    hand_str = (hand_str\n",
    "        .replace('\\x1b[31m', '<span style=\"color: red\">')\n",
    "        .replace('\\x1b[32m', '<span style=\"color: green\">')\n",
    "        .replace('\\x1b[33m', '<span style=\"color: yellow\">')\n",
    "        .replace('\\x1b[34m', '<span style=\"color: dodgerblue \">')\n",
    "        .replace('\\x1b[0m', '</span>')\n",
    "    )\n",
    "    display(HTML(hand_str))\n",
    "def save_dict(dictionary, filename):\n",
    "    with open(filename, 'wb') as file:\n",
    "        pickle.dump(dictionary, file)\n",
    "\n",
    "# Loading the dictionary from a file\n",
    "def load_dict(filename):\n",
    "    with open(filename, 'rb') as file:\n",
    "        return pickle.load(file)"
   ]
  },
  {
   "cell_type": "code",
   "execution_count": 2,
   "id": "fd1211fe-c7a1-4842-b197-8f731f617ea8",
   "metadata": {},
   "outputs": [
    {
     "data": {
      "text/html": [
       "<span style=\"color: red\">2</span><span style=\"color: yellow\">5</span><span style=\"color: dodgerblue \">6</span><span style=\"color: red\">7</span><span style=\"color: dodgerblue \">8</span><span style=\"color: green\">8</span><span style=\"color: dodgerblue \">9</span><span style=\"color: red\">J</span><span style=\"color: green\">Q</span><span style=\"color: red\">Q</span><span style=\"color: dodgerblue \">K</span><span style=\"color: green\">A</span>🐦1"
      ],
      "text/plain": [
       "<IPython.core.display.HTML object>"
      ]
     },
     "metadata": {},
     "output_type": "display_data"
    },
    {
     "data": {
      "text/plain": [
       "400881"
      ]
     },
     "execution_count": 2,
     "metadata": {},
     "output_type": "execute_result"
    }
   ],
   "source": [
    "db = tr.BSWSimple(\"../tichu_rust/bsw_filtered.db\")\n",
    "display_colored_hand(tr.print_hand(db.get_round(0)[0].first_14))\n",
    "db.len()"
   ]
  },
  {
   "cell_type": "markdown",
   "id": "5f32a95f-c78f-45f4-8ad6-d85af2065c9b",
   "metadata": {},
   "source": [
    "## Exchange db"
   ]
  },
  {
   "cell_type": "code",
   "execution_count": 3,
   "id": "b71f55ef-0ff5-444f-90ea-b54912595ad2",
   "metadata": {},
   "outputs": [],
   "source": [
    "#exch_db = tr.bulk_transform_db_into_np56_array(db)\n",
    "#np.save(\"exch_model/db_as_np_filtered\", exch_db)\n",
    "#exch_db = np.load(\"exch_model/db_as_np.npy\")\n",
    "exch_db = np.load(\"exch_model/db_as_np_filtered.npy\")"
   ]
  },
  {
   "cell_type": "code",
   "execution_count": null,
   "id": "74a56512-3410-4db1-b5e3-0e87510b76fa",
   "metadata": {},
   "outputs": [],
   "source": [
    "# Calculate labels and mapping from incoming card tuples to index\n",
    "incoming_card_combination_to_label_num = {}\n",
    "incoming_card_labels = np.zeros(len(exch_db), dtype=np.uint16)\n",
    "i = 0\n",
    "while i < len(exch_db):\n",
    "    prh_round = db.get_round(i//4)\n",
    "    for j in range(4):\n",
    "        incoming_card_combo = tr.prh_to_incoming_cards(prh_round[j])\n",
    "        if not incoming_card_combo in incoming_card_combination_to_label_num:\n",
    "            incoming_card_combination_to_label_num[incoming_card_combo] = len(incoming_card_combination_to_label_num)\n",
    "        incoming_card_labels[i+j] = incoming_card_combination_to_label_num[incoming_card_combo]\n",
    "    i += 4\n",
    "label_num_to_incoming_card_combination = {value: key for key,value in incoming_card_combination_to_label_num.items()}\n",
    "# Save\n",
    "np.save(\"exch_model/incoming_card_labels\", incoming_card_labels)\n",
    "save_dict(incoming_card_combination_to_label_num, \"exch_model/incoming_card_combination_to_label_num.pkl\")\n",
    "save_dict(label_num_to_incoming_card_combination, \"exch_model/label_num_to_incoming_card_combination.pkl\")"
   ]
  },
  {
   "cell_type": "code",
   "execution_count": 4,
   "id": "19e4ed9a-276e-49ba-aa23-3496efefeb60",
   "metadata": {},
   "outputs": [],
   "source": [
    "exch_labels = np.load(\"exch_model/incoming_card_labels.npy\")\n",
    "incoming_card_combination_to_label_num = load_dict(\"exch_model/incoming_card_combination_to_label_num.pkl\")\n",
    "label_num_to_incoming_card_combination = load_dict(\"exch_model/label_num_to_incoming_card_combination.pkl\")"
   ]
  },
  {
   "cell_type": "code",
   "execution_count": 5,
   "id": "fce8036a-999a-4d47-9774-66b5b322f038",
   "metadata": {},
   "outputs": [
    {
     "data": {
      "text/plain": [
       "2389"
      ]
     },
     "execution_count": 5,
     "metadata": {},
     "output_type": "execute_result"
    }
   ],
   "source": [
    "len(incoming_card_combination_to_label_num)"
   ]
  },
  {
   "cell_type": "markdown",
   "id": "0adc0f0a-1303-4b2f-9dcf-4ef6366fa1fd",
   "metadata": {},
   "source": [
    "## Hand strength db"
   ]
  },
  {
   "cell_type": "code",
   "execution_count": 6,
   "id": "bbd44a93-9d9a-465e-98b9-4d82d5ec6779",
   "metadata": {},
   "outputs": [],
   "source": [
    "#hand_strength_db =  tr.bulk_transform_db_into_np90_array(db)\n",
    "#np.save(\"hand_strength_model/db_as_np_filtered\", hand_strength_db)\n",
    "\n",
    "hand_strength_db = np.load(\"hand_strength_model/db_as_np_filtered.npy\")"
   ]
  },
  {
   "cell_type": "code",
   "execution_count": null,
   "id": "19ee6cd9-7964-40f8-92ef-0be199c7eb72",
   "metadata": {},
   "outputs": [],
   "source": [
    "# Calculate labels and mapping from incoming card tuples to index\n",
    "hand_strength_labels = np.zeros(len(hand_strength_db), dtype=np.int16)\n",
    "i = 0\n",
    "while i < len(hand_strength_db):\n",
    "    prh_round = db.get_round(i//4)\n",
    "    for j in range(4):\n",
    "        hand_strength_labels[i+j] =  prh_round[j].round_score_relative_gain_gt_as_t()\n",
    "    i += 4\n",
    "# Save\n",
    "np.save(\"hand_strength_model/labels_filtered\", hand_strength_labels)"
   ]
  },
  {
   "cell_type": "code",
   "execution_count": 7,
   "id": "fd933f19-b6cb-4d16-9e9a-cbf2e498941a",
   "metadata": {},
   "outputs": [],
   "source": [
    "hand_strength_labels = np.load(\"hand_strength_model/labels_filtered.npy\")\n"
   ]
  },
  {
   "cell_type": "markdown",
   "id": "11a3faaa-d46a-47ad-bc61-1b182ff1683a",
   "metadata": {},
   "source": [
    "## Card Game Neural Network Architecture\n",
    "### Input Processing\n",
    "\n",
    "+ Input shape: [N_samples, 56] (binary representation of hands)\n",
    "+ Split into:\n",
    "  - Regular cards [4, 13] (4 colors × 13 values)\n",
    "  - Special cards [4]\n",
    "\n",
    "\n",
    "\n",
    "### Regular Cards Path\n",
    "#### First Layer: ColorInvariantConv -> explained below\n",
    "\n",
    "8 types of filters (4 filters each = 32 total):\n",
    "\n",
    "+ Street detection:\n",
    "  - (4, 5) -> [1, 9] × 4 = 36 features\n",
    "  - (4, 6) -> [1, 8] × 4 = 32 features\n",
    "  - (4, 7) -> [1, 7] × 4 = 28 features\n",
    "+ Single color patterns:\n",
    "  - (1, 5) -> [4, 9] × 4 = 144 features\n",
    "+ Pair street patterns:\n",
    "  - (4, 2) -> [1, 12] × 4 = 48 features\n",
    "  - (4, 3) -> [1, 11] × 4 = 44 features\n",
    "  - (4, 4) -> [1, 10] × 4 = 40 features\n",
    "+ Value patterns:\n",
    "  - (4, 1) -> [1, 13] × 4 = 52 features\n",
    "\n",
    "Total features from regular cards: 424\n",
    "\n",
    "### Special Cards Path\n",
    "\n",
    "+ Simple dense layer: 4 -> 16 features\n",
    "\n",
    "### Two Architecture Options\n",
    "#### Option 1: Direct Flatten\n",
    "\n",
    "1. Flatten all ColorInvariantConv outputs\n",
    "2. Concatenate with special cards features\n",
    "3. Total features: 424 + 16 = 440\n",
    "4. Dense layers: 256 -> 128\n",
    "5. Output layer: [N, 2389]\n",
    "\n",
    "#### Option 2: Separate Processing\n",
    "\n",
    "1. Process each filter type through additional Conv1d (16 features each)\n",
    "2. 8 parallel paths of length 16,  more features\n",
    "3. Concatenate with special cards features (16)\n",
    "4. Total features: Not sure, a lot\n",
    "5. Dense layers: 256 -> 128\n",
    "6. Output layer: [N, 2389]\n",
    "\n",
    "### Key Features\n",
    "\n",
    "+ Color invariance through ColorInvariantConv in first layer\n",
    "+ Game-specific filter sizes capturing relevant patterns\n",
    "+ Separate processing of special cards\n",
    "+ Direct modeling of joint probability distribution over 2389 valid combinations\n",
    "+ No padding in convolutions to preserve pattern semantics\n",
    "<img src=\"./model-comparison.svg\" />"
   ]
  },
  {
   "cell_type": "code",
   "execution_count": 8,
   "id": "80f0e38e-7357-4845-acb7-64dba2081581",
   "metadata": {},
   "outputs": [
    {
     "name": "stderr",
     "output_type": "stream",
     "text": [
      "C:\\Users\\Fabian\\AppData\\Local\\Temp\\ipykernel_52504\\2601334456.py:8: FutureWarning: You are using `torch.load` with `weights_only=False` (the current default value), which uses the default pickle module implicitly. It is possible to construct malicious pickle data which will execute arbitrary code during unpickling (See https://github.com/pytorch/pytorch/blob/main/SECURITY.md#untrusted-models for more details). In a future release, the default value for `weights_only` will be flipped to `True`. This limits the functions that could be executed during unpickling. Arbitrary objects will no longer be allowed to be loaded via this mode unless they are explicitly allowlisted by the user via `torch.serialization.add_safe_globals`. We recommend you start setting `weights_only=True` for any use case where you don't have full control of the loaded file. Please open an issue on GitHub for any issues related to this experimental feature.\n",
      "  state_dict = torch.load('exch_model/best_model.pt')\n",
      "C:\\Users\\Fabian\\AppData\\Local\\Temp\\ipykernel_52504\\2601334456.py:13: FutureWarning: You are using `torch.load` with `weights_only=False` (the current default value), which uses the default pickle module implicitly. It is possible to construct malicious pickle data which will execute arbitrary code during unpickling (See https://github.com/pytorch/pytorch/blob/main/SECURITY.md#untrusted-models for more details). In a future release, the default value for `weights_only` will be flipped to `True`. This limits the functions that could be executed during unpickling. Arbitrary objects will no longer be allowed to be loaded via this mode unless they are explicitly allowlisted by the user via `torch.serialization.add_safe_globals`. We recommend you start setting `weights_only=True` for any use case where you don't have full control of the loaded file. Please open an issue on GitHub for any issues related to this experimental feature.\n",
      "  state_dict = torch.load('hand_strength_model/best_model.pt')\n"
     ]
    },
    {
     "data": {
      "text/plain": [
       "<All keys matched successfully>"
      ]
     },
     "execution_count": 8,
     "metadata": {},
     "output_type": "execute_result"
    }
   ],
   "source": [
    "import torch\n",
    "import torch\n",
    "from exch_model.model import CardNet  # Make sure the model architecture is imported\n",
    "from hand_strength_model.model import HandStrengthNet\n",
    "\n",
    "exch_model = CardNet()\n",
    "exch_model = exch_model.cuda()\n",
    "state_dict = torch.load('exch_model/best_model.pt')\n",
    "exch_model.load_state_dict(state_dict)\n",
    "\n",
    "hand_strength_model = HandStrengthNet()\n",
    "hand_strength_model = hand_strength_model.cuda()\n",
    "state_dict = torch.load('hand_strength_model/best_model.pt')\n",
    "hand_strength_model.load_state_dict(state_dict)\n"
   ]
  },
  {
   "cell_type": "code",
   "execution_count": 9,
   "id": "9f4ed1e2-f4a3-4812-848a-bca9f4d0f1b4",
   "metadata": {
    "scrolled": true
   },
   "outputs": [
    {
     "name": "stdout",
     "output_type": "stream",
     "text": [
      "[[128 133 246   7]\n",
      " [ 38   7  87  64]\n",
      " [ 87  22   7  64]\n",
      " [ 87  57  48  64]\n",
      " [128  22   7  64]\n",
      " [ 22 128   7  64]\n",
      " [  3  22   7  64]\n",
      " [ 87  22   7  64]\n",
      " [128  22   7  64]\n",
      " [ 64 133 128   7]\n",
      " [  3  87   7  64]\n",
      " [ 38  87   7  64]\n",
      " [  3  57   7  64]\n",
      " [128  22   7  64]\n",
      " [ 64   7 153 191]\n",
      " [  7  48 191 153]\n",
      " [ 47  22   7  64]\n",
      " [ 20 100   3  87]\n",
      " [128  57   7  64]]\n"
     ]
    }
   ],
   "source": [
    "from exch_model.model import predict as exch_predict\n",
    "probs = exch_predict(exch_model, exch_db[4*167+1:4*167+20])\n",
    "ind = np.argpartition(probs, -4, axis=1)[:, -4:]\n",
    "print(ind)"
   ]
  },
  {
   "cell_type": "code",
   "execution_count": 10,
   "id": "ca9e27cb-8a09-4a9f-9669-6303fea6ede2",
   "metadata": {},
   "outputs": [
    {
     "data": {
      "text/html": [
       "<span style=\"color: green\">2</span><span style=\"color: yellow\">4</span><span style=\"color: dodgerblue \">5</span><span style=\"color: green\">5</span><span style=\"color: yellow\">6</span><span style=\"color: green\">6</span><span style=\"color: red\">6</span><span style=\"color: yellow\">T</span><span style=\"color: red\">T</span><span style=\"color: green\">J</span><span style=\"color: dodgerblue \">Q</span><span style=\"color: green\">Q</span><span style=\"color: red\">Q</span>↺"
      ],
      "text/plain": [
       "<IPython.core.display.HTML object>"
      ]
     },
     "metadata": {},
     "output_type": "display_data"
    }
   ],
   "source": [
    "display_colored_hand(tr.print_hand(db.get_round(1)[3].final_14))"
   ]
  },
  {
   "cell_type": "code",
   "execution_count": 11,
   "id": "91326d55-91fe-43f8-b8cc-9afa2f94fe9d",
   "metadata": {},
   "outputs": [
    {
     "name": "stdout",
     "output_type": "stream",
     "text": [
      "[  92.42789   -97.90347    62.338425 -146.95308    66.089836  -24.292103\n",
      "  -18.120998  -62.53246    93.01433   -15.131215  -33.71086   -16.614683\n",
      "  -59.7088     18.452246  -93.82926   135.00415    93.58096    50.12252\n",
      "  -20.62323    45.161583]\n"
     ]
    }
   ],
   "source": [
    "from hand_strength_model.model import predict as score_predict\n",
    "scores = score_predict(hand_strength_model, hand_strength_db[:20])\n",
    "print(scores)"
   ]
  },
  {
   "cell_type": "code",
   "execution_count": 12,
   "id": "27e1785d-081d-4a3f-9c83-95f44ce32512",
   "metadata": {},
   "outputs": [],
   "source": [
    "def exchange_bot(hand):\n",
    "    hand_as_np = tr.transform_into_np56_array(hand)\n",
    "    out_combos = tr.get_legal_outgoing_card_combinations(hand)\n",
    "    print(f\"Trying {len(out_combos)} many different exchange possibilities!\")\n",
    "    ingoing_probabilities = exch_predict(exch_model, hand_as_np)[0, :]\n",
    "    relevant_ingoing_indices = []\n",
    "    for idx, probability in enumerate(ingoing_probabilities):\n",
    "        if probability < 0.004:\n",
    "            continue\n",
    "        if not tr.get_legal_incoming_card_combinations(hand, label_num_to_incoming_card_combination[idx]):\n",
    "            continue\n",
    "        relevant_ingoing_indices.append(idx)\n",
    "    print(f\"Found {len(relevant_ingoing_indices)} relevant ingoing possibilities!\")\n",
    "    prob_sum = np.sum(ingoing_probabilities[relevant_ingoing_indices])\n",
    "\n",
    "    model_call_on = []\n",
    "    indices_to_info = []\n",
    "    batch = np.zeros((64, 90), dtype=np.uint8)\n",
    "\n",
    "    for out_hand, out_partner in out_combos:\n",
    "        stripped_hand = hand ^ out_hand\n",
    "        for ingoing_idx in relevant_ingoing_indices:\n",
    "            in_prob = ingoing_probabilities[ingoing_idx] / prob_sum #Reweight such that it adds up to 1.\n",
    "            in_partner = label_num_to_incoming_card_combination[ingoing_idx][2]\n",
    "            in_hands = tr.get_legal_incoming_card_combinations(hand, label_num_to_incoming_card_combination[ingoing_idx])\n",
    "            if tr.could_get_street_bomb(stripped_hand, out_hand, label_num_to_incoming_card_combination[ingoing_idx]):\n",
    "                tr.prepare_batch_np90_array(stripped_hand, in_partner, out_partner, in_hands, batch)\n",
    "                to_add = batch[:len(in_hands)].copy()\n",
    "                in_prob /= len(in_hands)\n",
    "            else:\n",
    "                first_in = in_hands[0]\n",
    "                to_add = tr.transform_into_np90_array(stripped_hand ^ first_in, in_partner, out_partner)\n",
    "            for i in range(len(to_add)):\n",
    "                model_call_on.append(to_add[i, :])\n",
    "                indices_to_info.append((out_hand, out_partner, in_prob))\n",
    "    scores = score_predict(hand_strength_model, np.array(model_call_on))\n",
    "    combo_to_val = {}\n",
    "    for i in range(len(indices_to_info)):\n",
    "        out_hand, out_partner, in_prob = indices_to_info[i]\n",
    "        if (out_hand, out_partner) not in combo_to_val:\n",
    "            combo_to_val[(out_hand, out_partner)] = 0.\n",
    "        combo_to_val[(out_hand, out_partner)] = combo_to_val[(out_hand, out_partner)] + in_prob * scores[i]\n",
    "    return combo_to_val"
   ]
  },
  {
   "cell_type": "code",
   "execution_count": 13,
   "id": "0b5173e8-1653-443f-9d7c-54fab0db13d9",
   "metadata": {},
   "outputs": [],
   "source": [
    "def get_top_n(dictionary, n=10):\n",
    "    # Sort dictionary items by value in descending order and get top n\n",
    "    sorted_items = sorted(dictionary.items(), key=lambda x: x[1], reverse=True)[:n]\n",
    "    return sorted_items\n",
    "\n",
    "def format_exchange_possibilites(top_possibilities):\n",
    "    for idx, ((out_hand, out_partner), value) in enumerate(top_possibilities):\n",
    "        print(f\"Option {idx+1} has expected score {value}\")\n",
    "        def format_out_partner():\n",
    "            if out_partner == 14:\n",
    "                return \"🐦\"\n",
    "            elif out_partner == 15:\n",
    "                return \"🐉\"\n",
    "            elif out_partner == 16:\n",
    "                return \"1\"\n",
    "            elif out_partner == 0:\n",
    "                return \"↺\"\n",
    "            else:\n",
    "                return [\"2\", \"3\", \"4\", \"5\", \"6\", \"7\", \"8\", \"9\", \"T\", \"J\", \"Q\", \"K\", \"A\"][out_partner-1]\n",
    "        print(f\"Give partner: {format_out_partner()}\")\n",
    "        print(\"Give all: \", end=\"\")\n",
    "        display_colored_hand(tr.print_hand(out_hand))\n",
    "        print(\"-\"*50)"
   ]
  },
  {
   "cell_type": "code",
   "execution_count": 14,
   "id": "11334847-ac58-4440-802f-2295f9150fa9",
   "metadata": {},
   "outputs": [
    {
     "data": {
      "text/html": [
       "<span style=\"color: dodgerblue \">2</span><span style=\"color: green\">6</span><span style=\"color: dodgerblue \">7</span><span style=\"color: red\">9</span><span style=\"color: red\">T</span><span style=\"color: yellow\">J</span><span style=\"color: green\">J</span><span style=\"color: red\">J</span><span style=\"color: yellow\">Q</span><span style=\"color: red\">Q</span><span style=\"color: yellow\">K</span><span style=\"color: dodgerblue \">K</span><span style=\"color: red\">A</span>🐦"
      ],
      "text/plain": [
       "<IPython.core.display.HTML object>"
      ]
     },
     "metadata": {},
     "output_type": "display_data"
    },
    {
     "name": "stdout",
     "output_type": "stream",
     "text": [
      "Trying 1092 many different exchange possibilities!\n",
      "Found 141 relevant ingoing possibilities!\n",
      "Option 1 has expected score 89.45057678222656\n",
      "Give partner: J\n",
      "Give all: "
     ]
    },
    {
     "data": {
      "text/html": [
       "<span style=\"color: dodgerblue \">2</span><span style=\"color: yellow\">J</span><span style=\"color: green\">J</span>"
      ],
      "text/plain": [
       "<IPython.core.display.HTML object>"
      ]
     },
     "metadata": {},
     "output_type": "display_data"
    },
    {
     "name": "stdout",
     "output_type": "stream",
     "text": [
      "--------------------------------------------------\n",
      "Option 2 has expected score 88.43009185791016\n",
      "Give partner: J\n",
      "Give all: "
     ]
    },
    {
     "data": {
      "text/html": [
       "<span style=\"color: dodgerblue \">2</span><span style=\"color: green\">J</span><span style=\"color: red\">J</span>"
      ],
      "text/plain": [
       "<IPython.core.display.HTML object>"
      ]
     },
     "metadata": {},
     "output_type": "display_data"
    },
    {
     "name": "stdout",
     "output_type": "stream",
     "text": [
      "--------------------------------------------------\n",
      "Option 3 has expected score 83.92390441894531\n",
      "Give partner: J\n",
      "Give all: "
     ]
    },
    {
     "data": {
      "text/html": [
       "<span style=\"color: green\">6</span><span style=\"color: yellow\">J</span><span style=\"color: green\">J</span>"
      ],
      "text/plain": [
       "<IPython.core.display.HTML object>"
      ]
     },
     "metadata": {},
     "output_type": "display_data"
    },
    {
     "name": "stdout",
     "output_type": "stream",
     "text": [
      "--------------------------------------------------\n",
      "Option 4 has expected score 83.38031005859375\n",
      "Give partner: 7\n",
      "Give all: "
     ]
    },
    {
     "data": {
      "text/html": [
       "<span style=\"color: dodgerblue \">2</span><span style=\"color: green\">6</span><span style=\"color: dodgerblue \">7</span>"
      ],
      "text/plain": [
       "<IPython.core.display.HTML object>"
      ]
     },
     "metadata": {},
     "output_type": "display_data"
    },
    {
     "name": "stdout",
     "output_type": "stream",
     "text": [
      "--------------------------------------------------\n",
      "Option 5 has expected score 83.22826385498047\n",
      "Give partner: J\n",
      "Give all: "
     ]
    },
    {
     "data": {
      "text/html": [
       "<span style=\"color: dodgerblue \">2</span><span style=\"color: yellow\">J</span><span style=\"color: red\">J</span>"
      ],
      "text/plain": [
       "<IPython.core.display.HTML object>"
      ]
     },
     "metadata": {},
     "output_type": "display_data"
    },
    {
     "name": "stdout",
     "output_type": "stream",
     "text": [
      "--------------------------------------------------\n",
      "Option 6 has expected score 79.143310546875\n",
      "Give partner: 6\n",
      "Give all: "
     ]
    },
    {
     "data": {
      "text/html": [
       "<span style=\"color: dodgerblue \">2</span><span style=\"color: green\">6</span><span style=\"color: dodgerblue \">7</span>"
      ],
      "text/plain": [
       "<IPython.core.display.HTML object>"
      ]
     },
     "metadata": {},
     "output_type": "display_data"
    },
    {
     "name": "stdout",
     "output_type": "stream",
     "text": [
      "--------------------------------------------------\n",
      "Option 7 has expected score 76.09078979492188\n",
      "Give partner: J\n",
      "Give all: "
     ]
    },
    {
     "data": {
      "text/html": [
       "<span style=\"color: green\">6</span><span style=\"color: green\">J</span><span style=\"color: red\">J</span>"
      ],
      "text/plain": [
       "<IPython.core.display.HTML object>"
      ]
     },
     "metadata": {},
     "output_type": "display_data"
    },
    {
     "name": "stdout",
     "output_type": "stream",
     "text": [
      "--------------------------------------------------\n",
      "Option 8 has expected score 73.41964721679688\n",
      "Give partner: 2\n",
      "Give all: "
     ]
    },
    {
     "data": {
      "text/html": [
       "<span style=\"color: dodgerblue \">2</span><span style=\"color: green\">6</span><span style=\"color: dodgerblue \">7</span>"
      ],
      "text/plain": [
       "<IPython.core.display.HTML object>"
      ]
     },
     "metadata": {},
     "output_type": "display_data"
    },
    {
     "name": "stdout",
     "output_type": "stream",
     "text": [
      "--------------------------------------------------\n",
      "Option 9 has expected score 70.98426055908203\n",
      "Give partner: J\n",
      "Give all: "
     ]
    },
    {
     "data": {
      "text/html": [
       "<span style=\"color: dodgerblue \">7</span><span style=\"color: yellow\">J</span><span style=\"color: green\">J</span>"
      ],
      "text/plain": [
       "<IPython.core.display.HTML object>"
      ]
     },
     "metadata": {},
     "output_type": "display_data"
    },
    {
     "name": "stdout",
     "output_type": "stream",
     "text": [
      "--------------------------------------------------\n",
      "Option 10 has expected score 70.495849609375\n",
      "Give partner: 7\n",
      "Give all: "
     ]
    },
    {
     "data": {
      "text/html": [
       "<span style=\"color: green\">6</span><span style=\"color: dodgerblue \">7</span><span style=\"color: green\">J</span>"
      ],
      "text/plain": [
       "<IPython.core.display.HTML object>"
      ]
     },
     "metadata": {},
     "output_type": "display_data"
    },
    {
     "name": "stdout",
     "output_type": "stream",
     "text": [
      "--------------------------------------------------\n"
     ]
    }
   ],
   "source": [
    "round_num = 2\n",
    "player_num = 0\n",
    "hand = db.get_round(round_num)[player_num].first_14\n",
    "display_colored_hand(tr.print_hand(hand))\n",
    "combo_to_val = exchange_bot(hand)\n",
    "top_ten = get_top_n(combo_to_val, n=10)\n",
    "format_exchange_possibilites(top_ten)"
   ]
  },
  {
   "cell_type": "code",
   "execution_count": null,
   "id": "faee82bd-e2bd-402e-b9fd-d0ae6ec0cd2b",
   "metadata": {
    "scrolled": true
   },
   "outputs": [],
   "source": [
    "for x in tr.get_legal_incoming_card_combinations(db.get_round(167)[1].first_14, label_num_to_incoming_card_combination[7]):\n",
    "    display_colored_hand(tr.print_hand(x))"
   ]
  },
  {
   "cell_type": "code",
   "execution_count": null,
   "id": "574982cf-fb57-4c1a-86b4-2512e4a09564",
   "metadata": {},
   "outputs": [],
   "source": [
    "display_colored_hand(tr.print_hand(db.get_round(167)[1].first_14))\n",
    "print(label_num_to_incoming_card_combination[64])\n",
    "print(label_num_to_incoming_card_combination[100])\n",
    "print(label_num_to_incoming_card_combination[246])\n",
    "print(label_num_to_incoming_card_combination[7])"
   ]
  }
 ],
 "metadata": {
  "kernelspec": {
   "display_name": "Python 3 (ipykernel)",
   "language": "python",
   "name": "python3"
  },
  "language_info": {
   "codemirror_mode": {
    "name": "ipython",
    "version": 3
   },
   "file_extension": ".py",
   "mimetype": "text/x-python",
   "name": "python",
   "nbconvert_exporter": "python",
   "pygments_lexer": "ipython3",
   "version": "3.12.4"
  }
 },
 "nbformat": 4,
 "nbformat_minor": 5
}
