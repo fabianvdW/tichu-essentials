{
 "cells": [
  {
   "cell_type": "code",
   "execution_count": 1,
   "id": "ae1d7ab6-e4c3-4a25-9874-a7cbbfed9495",
   "metadata": {},
   "outputs": [],
   "source": [
    "%load_ext autoreload\n",
    "%autoreload 2\n",
    "import tichu_rustipy as tr\n",
    "import numpy as np\n",
    "from IPython.display import display, HTML\n",
    "import pickle\n",
    "\n",
    "def display_colored_hand(hand):\n",
    "    hand_str = tr.print_hand(hand)\n",
    "    # Convert ANSI escape codes to HTML\n",
    "    hand_str = (hand_str\n",
    "        .replace('\\x1b[31m', '<span style=\"color: red\">')\n",
    "        .replace('\\x1b[32m', '<span style=\"color: green\">')\n",
    "        .replace('\\x1b[33m', '<span style=\"color: yellow\">')\n",
    "        .replace('\\x1b[34m', '<span style=\"color: dodgerblue \">')\n",
    "        .replace('\\x1b[0m', '</span>')\n",
    "    )\n",
    "    display(HTML(hand_str))"
   ]
  },
  {
   "cell_type": "code",
   "execution_count": 2,
   "id": "fd1211fe-c7a1-4842-b197-8f731f617ea8",
   "metadata": {},
   "outputs": [
    {
     "data": {
      "text/html": [
       "<span style=\"color: red\">2</span><span style=\"color: yellow\">5</span><span style=\"color: dodgerblue \">6</span><span style=\"color: red\">7</span><span style=\"color: dodgerblue \">8</span><span style=\"color: green\">8</span><span style=\"color: dodgerblue \">9</span><span style=\"color: red\">J</span><span style=\"color: green\">Q</span><span style=\"color: red\">Q</span><span style=\"color: dodgerblue \">K</span><span style=\"color: green\">A</span>🐦1"
      ],
      "text/plain": [
       "<IPython.core.display.HTML object>"
      ]
     },
     "metadata": {},
     "output_type": "display_data"
    },
    {
     "data": {
      "text/plain": [
       "400881"
      ]
     },
     "execution_count": 2,
     "metadata": {},
     "output_type": "execute_result"
    }
   ],
   "source": [
    "db = tr.BSWSimple(\"../tichu_rust/bsw_filtered.db\")\n",
    "display_colored_hand(db.get_round(0)[0].first_14)\n",
    "db.len()"
   ]
  },
  {
   "cell_type": "code",
   "execution_count": null,
   "id": "faee82bd-e2bd-402e-b9fd-d0ae6ec0cd2b",
   "metadata": {
    "scrolled": true
   },
   "outputs": [],
   "source": [
    "for x in tr.get_legal_incoming_card_combinations(db.get_round(167)[1].first_14, label_num_to_incoming_card_combination[7]):\n",
    "    display_colored_hand(tr.print_hand(x))"
   ]
  },
  {
   "cell_type": "code",
   "execution_count": null,
   "id": "574982cf-fb57-4c1a-86b4-2512e4a09564",
   "metadata": {},
   "outputs": [],
   "source": [
    "display_colored_hand(tr.print_hand(db.get_round(167)[1].first_14))\n",
    "print(label_num_to_incoming_card_combination[64])\n",
    "print(label_num_to_incoming_card_combination[100])\n",
    "print(label_num_to_incoming_card_combination[246])\n",
    "print(label_num_to_incoming_card_combination[7])"
   ]
  }
 ],
 "metadata": {
  "kernelspec": {
   "display_name": "Python 3 (ipykernel)",
   "language": "python",
   "name": "python3"
  },
  "language_info": {
   "codemirror_mode": {
    "name": "ipython",
    "version": 3
   },
   "file_extension": ".py",
   "mimetype": "text/x-python",
   "name": "python",
   "nbconvert_exporter": "python",
   "pygments_lexer": "ipython3",
   "version": "3.13.2"
  }
 },
 "nbformat": 4,
 "nbformat_minor": 5
}
