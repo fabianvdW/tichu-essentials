{
 "cells": [
  {
   "cell_type": "code",
   "execution_count": 24,
   "id": "ae1d7ab6-e4c3-4a25-9874-a7cbbfed9495",
   "metadata": {},
   "outputs": [],
   "source": [
    "import tichu_rustipy as tr\n",
    "import numpy as np\n",
    "from IPython.display import display, HTML\n",
    "\n",
    "def display_colored_hand(hand_str):\n",
    "    # Convert ANSI escape codes to HTML\n",
    "    hand_str = (hand_str\n",
    "        .replace('\\x1b[31m', '<span style=\"color: red\">')\n",
    "        .replace('\\x1b[32m', '<span style=\"color: green\">')\n",
    "        .replace('\\x1b[33m', '<span style=\"color: yellow\">')\n",
    "        .replace('\\x1b[34m', '<span style=\"color: dodgerblue \">')\n",
    "        .replace('\\x1b[0m', '</span>')\n",
    "    )\n",
    "    display(HTML(hand_str))"
   ]
  },
  {
   "cell_type": "code",
   "execution_count": 33,
   "id": "fd1211fe-c7a1-4842-b197-8f731f617ea8",
   "metadata": {},
   "outputs": [
    {
     "data": {
      "text/html": [
       "<span style=\"color: dodgerblue \">2</span><span style=\"color: dodgerblue \">3</span><span style=\"color: dodgerblue \">4</span><span style=\"color: red\">4</span><span style=\"color: dodgerblue \">6</span><span style=\"color: yellow\">7</span><span style=\"color: red\">7</span><span style=\"color: yellow\">8</span><span style=\"color: green\">9</span><span style=\"color: yellow\">Q</span><span style=\"color: yellow\">K</span><span style=\"color: dodgerblue \">K</span><span style=\"color: red\">K</span>1"
      ],
      "text/plain": [
       "<IPython.core.display.HTML object>"
      ]
     },
     "metadata": {},
     "output_type": "display_data"
    },
    {
     "data": {
      "text/plain": [
       "21264935"
      ]
     },
     "execution_count": 33,
     "metadata": {},
     "output_type": "execute_result"
    }
   ],
   "source": [
    "db = tr.BSWSimple(\"../tichu_rust/bsw.db\")\n",
    "display_colored_hand(tr.print_hand(db.get_round(0)[0].first_14))\n",
    "db.len()"
   ]
  },
  {
   "cell_type": "code",
   "execution_count": 34,
   "id": "01c5cf45-0f75-4a63-8083-f67f48367902",
   "metadata": {},
   "outputs": [],
   "source": [
    "db_as_np = np.zeros((4*db.len(), 56), dtype=np.uint8) # To be reshaped into (_, 14, 4) later (on GPU), but to save memory, it'll stay this way for now."
   ]
  },
  {
   "cell_type": "code",
   "execution_count": null,
   "id": "a0fc5aba-492b-47da-9ce3-4d40bdfa6385",
   "metadata": {},
   "outputs": [],
   "source": [
    "for round_num in range(db.len()):\n",
    "    hands_in_round = db.get_round(round_num)\n",
    "    for player_id in range(4):\n",
    "        idx = 4 * round_num + player_id\n",
    "        transformed_hand = tr.transform_hand_to_lower_56_bits(hands_in_round[player_id].first_14)\n",
    "        for j in range(56):\n",
    "            db_as_np[idx, j] = np.uint8((transformed_hand >> j) & 0b1 != 0)"
   ]
  }
 ],
 "metadata": {
  "kernelspec": {
   "display_name": "Python 3 (ipykernel)",
   "language": "python",
   "name": "python3"
  },
  "language_info": {
   "codemirror_mode": {
    "name": "ipython",
    "version": 3
   },
   "file_extension": ".py",
   "mimetype": "text/x-python",
   "name": "python",
   "nbconvert_exporter": "python",
   "pygments_lexer": "ipython3",
   "version": "3.12.4"
  }
 },
 "nbformat": 4,
 "nbformat_minor": 5
}
