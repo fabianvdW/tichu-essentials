{
 "cells": [
  {
   "cell_type": "code",
   "execution_count": 1,
   "id": "ae1d7ab6-e4c3-4a25-9874-a7cbbfed9495",
   "metadata": {},
   "outputs": [],
   "source": [
    "%load_ext autoreload\n",
    "%autoreload 2\n",
    "import tichu_rustipy as tr\n",
    "import numpy as np\n",
    "from IPython.display import display, HTML\n",
    "import pickle\n",
    "\n",
    "def display_colored_hand(hand_str):\n",
    "    # Convert ANSI escape codes to HTML\n",
    "    hand_str = (hand_str\n",
    "        .replace('\\x1b[31m', '<span style=\"color: red\">')\n",
    "        .replace('\\x1b[32m', '<span style=\"color: green\">')\n",
    "        .replace('\\x1b[33m', '<span style=\"color: yellow\">')\n",
    "        .replace('\\x1b[34m', '<span style=\"color: dodgerblue \">')\n",
    "        .replace('\\x1b[0m', '</span>')\n",
    "    )\n",
    "    display(HTML(hand_str))\n",
    "def save_dict(dictionary, filename):\n",
    "    with open(filename, 'wb') as file:\n",
    "        pickle.dump(dictionary, file)\n",
    "\n",
    "# Loading the dictionary from a file\n",
    "def load_dict(filename):\n",
    "    with open(filename, 'rb') as file:\n",
    "        return pickle.load(file)"
   ]
  },
  {
   "cell_type": "code",
   "execution_count": 2,
   "id": "fd1211fe-c7a1-4842-b197-8f731f617ea8",
   "metadata": {},
   "outputs": [
    {
     "data": {
      "text/html": [
       "<span style=\"color: red\">2</span><span style=\"color: yellow\">5</span><span style=\"color: dodgerblue \">6</span><span style=\"color: red\">7</span><span style=\"color: dodgerblue \">8</span><span style=\"color: green\">8</span><span style=\"color: dodgerblue \">9</span><span style=\"color: red\">J</span><span style=\"color: green\">Q</span><span style=\"color: red\">Q</span><span style=\"color: dodgerblue \">K</span><span style=\"color: green\">A</span>🐦1"
      ],
      "text/plain": [
       "<IPython.core.display.HTML object>"
      ]
     },
     "metadata": {},
     "output_type": "display_data"
    },
    {
     "data": {
      "text/plain": [
       "400881"
      ]
     },
     "execution_count": 2,
     "metadata": {},
     "output_type": "execute_result"
    }
   ],
   "source": [
    "db = tr.BSWSimple(\"../tichu_rust/bsw_filtered.db\")\n",
    "display_colored_hand(tr.print_hand(db.get_round(0)[0].first_14))\n",
    "db.len()"
   ]
  },
  {
   "cell_type": "code",
   "execution_count": 3,
   "id": "b71f55ef-0ff5-444f-90ea-b54912595ad2",
   "metadata": {},
   "outputs": [],
   "source": [
    "#db_as_np = tr.bulk_transform_db_into_np56_array(db)\n",
    "#np.save(\"db_as_np_filtered\", db_as_np)\n",
    "#db_as_np = np.load(\"db_as_np.npy\")\n",
    "db_as_np = np.load(\"db_as_np_filtered.npy\")\n",
    "\n",
    "## Later, when using, need to reshape: db_as_np[0].reshape(4, 14)\n",
    "#print(db_as_np.shape)"
   ]
  },
  {
   "cell_type": "code",
   "execution_count": null,
   "id": "74a56512-3410-4db1-b5e3-0e87510b76fa",
   "metadata": {},
   "outputs": [],
   "source": [
    "# Calculate labels and mapping from incoming card tuples to index\n",
    "incoming_card_combination_to_label_num = {}\n",
    "incoming_card_labels = np.zeros(len(db_as_np), dtype=np.uint16)\n",
    "i = 0\n",
    "while i < len(db_as_np):\n",
    "    prh_round = db.get_round(i//4)\n",
    "    for j in range(4):\n",
    "        incoming_card_combo = tr.prh_to_incoming_cards(prh_round[j])\n",
    "        if not incoming_card_combo in incoming_card_combination_to_label_num:\n",
    "            incoming_card_combination_to_label_num[incoming_card_combo] = len(incoming_card_combination_to_label_num)\n",
    "        incoming_card_labels[i+j] = incoming_card_combination_to_label_num[incoming_card_combo]\n",
    "    i += 4\n",
    "label_num_to_incoming_card_combination = {value: key for key,value in incoming_card_combination_to_label_num.items()}\n",
    "# Save\n",
    "np.save(\"incoming_card_labels_filtered\", incoming_card_labels)\n",
    "save_dict(incoming_card_combination_to_label_num, \"incoming_card_combination_to_label_num_filtered.pkl\")\n",
    "save_dict(label_num_to_incoming_card_combination, \"label_num_to_incoming_card_combination_filtered.pkl\")"
   ]
  },
  {
   "cell_type": "code",
   "execution_count": 30,
   "id": "19e4ed9a-276e-49ba-aa23-3496efefeb60",
   "metadata": {},
   "outputs": [],
   "source": [
    "incoming_card_labels = np.load(\"incoming_card_labels.npy\")\n",
    "incoming_card_combination_to_label_num = load_dict(\"incoming_card_combination_to_label_num.pkl\")\n",
    "label_num_to_incoming_card_combination = load_dict(\"label_num_to_incoming_card_combination.pkl\")"
   ]
  },
  {
   "cell_type": "code",
   "execution_count": 4,
   "id": "88f2a469-04c1-4f7a-b582-5f95ae377cb3",
   "metadata": {},
   "outputs": [],
   "source": [
    "incoming_card_labels = np.load(\"incoming_card_labels_filtered.npy\")\n",
    "incoming_card_combination_to_label_num = load_dict(\"incoming_card_combination_to_label_num_filtered.pkl\")\n",
    "label_num_to_incoming_card_combination = load_dict(\"label_num_to_incoming_card_combination_filtered.pkl\")"
   ]
  },
  {
   "cell_type": "code",
   "execution_count": 31,
   "id": "fce8036a-999a-4d47-9774-66b5b322f038",
   "metadata": {},
   "outputs": [
    {
     "data": {
      "text/plain": [
       "2389"
      ]
     },
     "execution_count": 31,
     "metadata": {},
     "output_type": "execute_result"
    }
   ],
   "source": [
    "len(incoming_card_combination_to_label_num)"
   ]
  },
  {
   "cell_type": "markdown",
   "id": "11a3faaa-d46a-47ad-bc61-1b182ff1683a",
   "metadata": {},
   "source": [
    "## Card Game Neural Network Architecture\n",
    "### Input Processing\n",
    "\n",
    "+ Input shape: [N_samples, 56] (binary representation of hands)\n",
    "+ Split into:\n",
    "  - Regular cards [4, 13] (4 colors × 13 values)\n",
    "  - Special cards [4]\n",
    "\n",
    "\n",
    "\n",
    "### Regular Cards Path\n",
    "#### First Layer: ColorInvariantConv -> explained below\n",
    "\n",
    "8 types of filters (4 filters each = 32 total):\n",
    "\n",
    "+ Street detection:\n",
    "  - (4, 5) -> [1, 9] × 4 = 36 features\n",
    "  - (4, 6) -> [1, 8] × 4 = 32 features\n",
    "  - (4, 7) -> [1, 7] × 4 = 28 features\n",
    "+ Single color patterns:\n",
    "  - (1, 5) -> [4, 9] × 4 = 144 features\n",
    "+ Pair street patterns:\n",
    "  - (4, 2) -> [1, 12] × 4 = 48 features\n",
    "  - (4, 3) -> [1, 11] × 4 = 44 features\n",
    "  - (4, 4) -> [1, 10] × 4 = 40 features\n",
    "+ Value patterns:\n",
    "  - (4, 1) -> [1, 13] × 4 = 52 features\n",
    "\n",
    "Total features from regular cards: 424\n",
    "\n",
    "### Special Cards Path\n",
    "\n",
    "+ Simple dense layer: 4 -> 16 features\n",
    "\n",
    "### Two Architecture Options\n",
    "#### Option 1: Direct Flatten\n",
    "\n",
    "1. Flatten all ColorInvariantConv outputs\n",
    "2. Concatenate with special cards features\n",
    "3. Total features: 424 + 16 = 440\n",
    "4. Dense layers: 256 -> 128\n",
    "5. Output layer: [N, 2389]\n",
    "\n",
    "#### Option 2: Separate Processing\n",
    "\n",
    "1. Process each filter type through additional Conv1d (16 features each)\n",
    "2. 8 parallel paths of length 16,  more features\n",
    "3. Concatenate with special cards features (16)\n",
    "4. Total features: Not sure, a lot\n",
    "5. Dense layers: 256 -> 128\n",
    "6. Output layer: [N, 2389]\n",
    "\n",
    "### Key Features\n",
    "\n",
    "+ Color invariance through ColorInvariantConv in first layer\n",
    "+ Game-specific filter sizes capturing relevant patterns\n",
    "+ Separate processing of special cards\n",
    "+ Direct modeling of joint probability distribution over 2389 valid combinations\n",
    "+ No padding in convolutions to preserve pattern semantics\n",
    "<img src=\"./model-comparison.svg\" />"
   ]
  },
  {
   "cell_type": "code",
   "execution_count": 44,
   "id": "80f0e38e-7357-4845-acb7-64dba2081581",
   "metadata": {},
   "outputs": [
    {
     "name": "stderr",
     "output_type": "stream",
     "text": [
      "C:\\Users\\Fabian\\AppData\\Local\\Temp\\ipykernel_30948\\1415426006.py:7: FutureWarning: You are using `torch.load` with `weights_only=False` (the current default value), which uses the default pickle module implicitly. It is possible to construct malicious pickle data which will execute arbitrary code during unpickling (See https://github.com/pytorch/pytorch/blob/main/SECURITY.md#untrusted-models for more details). In a future release, the default value for `weights_only` will be flipped to `True`. This limits the functions that could be executed during unpickling. Arbitrary objects will no longer be allowed to be loaded via this mode unless they are explicitly allowlisted by the user via `torch.serialization.add_safe_globals`. We recommend you start setting `weights_only=True` for any use case where you don't have full control of the loaded file. Please open an issue on GitHub for any issues related to this experimental feature.\n",
      "  state_dict = torch.load('best_model.pt')\n"
     ]
    },
    {
     "data": {
      "text/plain": [
       "<All keys matched successfully>"
      ]
     },
     "execution_count": 44,
     "metadata": {},
     "output_type": "execute_result"
    }
   ],
   "source": [
    "import torch\n",
    "import torch\n",
    "from model import CardNet  # Make sure the model architecture is imported\n",
    "\n",
    "best_model = CardNet()\n",
    "best_model = best_model.cuda()\n",
    "state_dict = torch.load('best_model.pt')\n",
    "best_model.load_state_dict(state_dict)"
   ]
  },
  {
   "cell_type": "code",
   "execution_count": 45,
   "id": "9f4ed1e2-f4a3-4812-848a-bca9f4d0f1b4",
   "metadata": {},
   "outputs": [
    {
     "name": "stdout",
     "output_type": "stream",
     "text": [
      "[[128 133 246   7]\n",
      " [ 38   7  87  64]\n",
      " [ 87  22   7  64]\n",
      " [ 87  57  48  64]\n",
      " [128  22   7  64]\n",
      " [ 22 128   7  64]\n",
      " [  3  22   7  64]\n",
      " [ 87  22   7  64]\n",
      " [128  22   7  64]\n",
      " [ 64 133 128   7]\n",
      " [  3  87   7  64]\n",
      " [ 38  87   7  64]\n",
      " [  3  57   7  64]\n",
      " [128  22   7  64]\n",
      " [ 64   7 153 191]\n",
      " [  7  48 191 153]\n",
      " [ 47  22   7  64]\n",
      " [ 20 100   3  87]\n",
      " [128  57   7  64]]\n"
     ]
    }
   ],
   "source": [
    "from model import predict\n",
    "probs = predict(best_model, db_as_np[4*167+1:4*167+20])\n",
    "ind = np.argpartition(probs, -4, axis=1)[:, -4:]\n",
    "print(ind)"
   ]
  },
  {
   "cell_type": "code",
   "execution_count": 9,
   "id": "1a027bfd-e783-43ee-9f99-30675def7497",
   "metadata": {},
   "outputs": [
    {
     "data": {
      "text/plain": [
       "array([[[0, 0, 0, 1, 0, 0, 0, 0, 0, 0, 0, 0, 1, 1],\n",
       "        [0, 0, 0, 0, 1, 0, 0, 0, 0, 0, 0, 0, 1, 1],\n",
       "        [0, 0, 0, 0, 0, 0, 0, 1, 0, 0, 1, 1, 0, 1],\n",
       "        [0, 0, 0, 0, 0, 1, 0, 0, 0, 1, 0, 1, 0, 1]]], dtype=uint8)"
      ]
     },
     "execution_count": 9,
     "metadata": {},
     "output_type": "execute_result"
    }
   ],
   "source": [
    "db_as_np[4*167+1:4*167+2].reshape(-1, 4, 14)"
   ]
  },
  {
   "cell_type": "code",
   "execution_count": 46,
   "id": "9e8faadc-23c1-49c2-9b6a-5e3b29df8ff6",
   "metadata": {},
   "outputs": [
    {
     "data": {
      "text/plain": [
       "np.float32(0.0010674623)"
      ]
     },
     "execution_count": 46,
     "metadata": {},
     "output_type": "execute_result"
    }
   ],
   "source": [
    "probs[0, 64]"
   ]
  },
  {
   "cell_type": "code",
   "execution_count": null,
   "id": "c813b564-beb9-4ea7-a1bf-30f4fb23c90f",
   "metadata": {
    "scrolled": true
   },
   "outputs": [],
   "source": [
    "for idx in range(db.len()):\n",
    "    for p_id in range(4):\n",
    "        if tr.print_hand(db.get_round(idx)[p_id].first_14).count('A') == 4:\n",
    "            print(idx, p_id)"
   ]
  },
  {
   "cell_type": "code",
   "execution_count": 38,
   "id": "574982cf-fb57-4c1a-86b4-2512e4a09564",
   "metadata": {},
   "outputs": [
    {
     "data": {
      "text/html": [
       "<span style=\"color: yellow\">4</span><span style=\"color: dodgerblue \">5</span><span style=\"color: red\">6</span><span style=\"color: green\">8</span><span style=\"color: red\">T</span><span style=\"color: green\">J</span><span style=\"color: green\">Q</span><span style=\"color: red\">Q</span><span style=\"color: yellow\">K</span><span style=\"color: dodgerblue \">K</span><span style=\"color: yellow\">A</span><span style=\"color: dodgerblue \">A</span><span style=\"color: green\">A</span><span style=\"color: red\">A</span>"
      ],
      "text/plain": [
       "<IPython.core.display.HTML object>"
      ]
     },
     "metadata": {},
     "output_type": "display_data"
    },
    {
     "name": "stdout",
     "output_type": "stream",
     "text": [
      "(1, 2, 13)\n",
      "(1, 3, 12)\n",
      "(0, 1, 12)\n",
      "(1, 2, 12)\n"
     ]
    }
   ],
   "source": [
    "display_colored_hand(tr.print_hand(db.get_round(167)[1].first_14))\n",
    "print(label_num_to_incoming_card_combination[64])\n",
    "print(label_num_to_incoming_card_combination[100])\n",
    "print(label_num_to_incoming_card_combination[246])\n",
    "print(label_num_to_incoming_card_combination[7])"
   ]
  }
 ],
 "metadata": {
  "kernelspec": {
   "display_name": "Python 3 (ipykernel)",
   "language": "python",
   "name": "python3"
  },
  "language_info": {
   "codemirror_mode": {
    "name": "ipython",
    "version": 3
   },
   "file_extension": ".py",
   "mimetype": "text/x-python",
   "name": "python",
   "nbconvert_exporter": "python",
   "pygments_lexer": "ipython3",
   "version": "3.12.4"
  }
 },
 "nbformat": 4,
 "nbformat_minor": 5
}
