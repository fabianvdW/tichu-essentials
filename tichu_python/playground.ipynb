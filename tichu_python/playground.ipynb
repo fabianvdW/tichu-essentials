{
 "cells": [
  {
   "cell_type": "code",
   "execution_count": 1,
   "id": "ae1d7ab6-e4c3-4a25-9874-a7cbbfed9495",
   "metadata": {},
   "outputs": [],
   "source": [
    "%load_ext autoreload\n",
    "%autoreload 2\n",
    "import tichu_rustipy as tr\n",
    "import numpy as np\n",
    "from IPython.display import display, HTML\n",
    "import pickle\n",
    "\n",
    "def display_colored_hand(hand_str):\n",
    "    # Convert ANSI escape codes to HTML\n",
    "    hand_str = (hand_str\n",
    "        .replace('\\x1b[31m', '<span style=\"color: red\">')\n",
    "        .replace('\\x1b[32m', '<span style=\"color: green\">')\n",
    "        .replace('\\x1b[33m', '<span style=\"color: yellow\">')\n",
    "        .replace('\\x1b[34m', '<span style=\"color: dodgerblue \">')\n",
    "        .replace('\\x1b[0m', '</span>')\n",
    "    )\n",
    "    display(HTML(hand_str))\n",
    "def save_dict(dictionary, filename):\n",
    "    with open(filename, 'wb') as file:\n",
    "        pickle.dump(dictionary, file)\n",
    "\n",
    "# Loading the dictionary from a file\n",
    "def load_dict(filename):\n",
    "    with open(filename, 'rb') as file:\n",
    "        return pickle.load(file)"
   ]
  },
  {
   "cell_type": "code",
   "execution_count": null,
   "id": "fd1211fe-c7a1-4842-b197-8f731f617ea8",
   "metadata": {},
   "outputs": [],
   "source": [
    "db = tr.BSWSimple(\"../tichu_rust/bsw.db\")\n",
    "display_colored_hand(tr.print_hand(db.get_round(0)[0].first_14))\n",
    "db.len()"
   ]
  },
  {
   "cell_type": "code",
   "execution_count": 2,
   "id": "b71f55ef-0ff5-444f-90ea-b54912595ad2",
   "metadata": {},
   "outputs": [
    {
     "name": "stdout",
     "output_type": "stream",
     "text": [
      "(85059740, 56)\n"
     ]
    }
   ],
   "source": [
    "#db_as_np = tr.bulk_transform_db_into_np56_array(db)\n",
    "#np.save(\"db_as_np\", db_as_np)\n",
    "db_as_np = np.load(\"db_as_np.npy\")\n",
    "\n",
    "## Later, when using, need to reshape: db_as_np[0].reshape(4, 14)\n",
    "print(db_as_np.shape)"
   ]
  },
  {
   "cell_type": "code",
   "execution_count": null,
   "id": "74a56512-3410-4db1-b5e3-0e87510b76fa",
   "metadata": {},
   "outputs": [],
   "source": [
    "# Calculate labels and mapping from incoming card tuples to index\n",
    "incoming_card_combination_to_label_num = {}\n",
    "incoming_card_labels = np.zeros(len(db_as_np), dtype=np.uint16)\n",
    "i = 0\n",
    "while i < len(db_as_np):\n",
    "    prh_round = db.get_round(i//4)\n",
    "    for j in range(4):\n",
    "        incoming_card_combo = tr.prh_to_incoming_cards(prh_round[j])\n",
    "        if not incoming_card_combo in incoming_card_combination_to_label_num:\n",
    "            incoming_card_combination_to_label_num[incoming_card_combo] = len(incoming_card_combination_to_label_num)\n",
    "        incoming_card_labels[i+j] = incoming_card_combination_to_label_num[incoming_card_combo]\n",
    "    i += 4\n",
    "label_num_to_incoming_card_combination = {value: key for key,value in incoming_card_combination_to_label_num.items()}\n",
    "# Save\n",
    "np.save(\"incoming_card_labels\", incoming_card_labels)\n",
    "save_dict(incoming_card_combination_to_label_num, \"incoming_card_combination_to_label_num.pkl\")\n",
    "save_dict(label_num_to_incoming_card_combination, \"label_num_to_incoming_card_combination.pkl\")"
   ]
  },
  {
   "cell_type": "code",
   "execution_count": 3,
   "id": "19e4ed9a-276e-49ba-aa23-3496efefeb60",
   "metadata": {},
   "outputs": [],
   "source": [
    "incoming_card_labels = np.load(\"incoming_card_labels.npy\")\n",
    "incoming_card_combination_to_label_num = load_dict(\"incoming_card_combination_to_label_num.pkl\")\n",
    "label_num_to_incoming_card_combination = load_dict(\"label_num_to_incoming_card_combination.pkl\")"
   ]
  },
  {
   "cell_type": "code",
   "execution_count": 6,
   "id": "87728622-a3a7-46ad-b5e9-2c89b631b1c3",
   "metadata": {},
   "outputs": [
    {
     "data": {
      "text/plain": [
       "2389"
      ]
     },
     "execution_count": 6,
     "metadata": {},
     "output_type": "execute_result"
    }
   ],
   "source": [
    "len(incoming_card_combination_to_label_num)"
   ]
  },
  {
   "cell_type": "markdown",
   "id": "11a3faaa-d46a-47ad-bc61-1b182ff1683a",
   "metadata": {},
   "source": [
    "## Card Game Neural Network Architecture\n",
    "### Input Processing\n",
    "\n",
    "+ Input shape: [N_samples, 56] (binary representation of hands)\n",
    "+ Split into:\n",
    "  - Regular cards [4, 13] (4 colors × 13 values)\n",
    "  - Special cards [4]\n",
    "\n",
    "\n",
    "\n",
    "### Regular Cards Path\n",
    "#### First Layer: ColorInvariantConv -> explained below\n",
    "\n",
    "8 types of filters (4 filters each = 32 total):\n",
    "\n",
    "+ Street detection:\n",
    "  - (4, 5) -> [1, 9] × 4 = 36 features\n",
    "  - (4, 6) -> [1, 8] × 4 = 32 features\n",
    "  - (4, 7) -> [1, 7] × 4 = 28 features\n",
    "+ Single color patterns:\n",
    "  - (1, 5) -> [4, 9] × 4 = 144 features\n",
    "+ Pair street patterns:\n",
    "  - (4, 2) -> [1, 12] × 4 = 48 features\n",
    "  - (4, 3) -> [1, 11] × 4 = 44 features\n",
    "  - (4, 4) -> [1, 10] × 4 = 40 features\n",
    "+ Value patterns:\n",
    "  - (4, 1) -> [1, 13] × 4 = 52 features\n",
    "\n",
    "Total features from regular cards: 424\n",
    "\n",
    "### Special Cards Path\n",
    "\n",
    "+ Simple dense layer: 4 -> 16 features\n",
    "\n",
    "### Two Architecture Options\n",
    "#### Option 1: Direct Flatten\n",
    "\n",
    "1. Flatten all ColorInvariantConv outputs\n",
    "2. Concatenate with special cards features\n",
    "3. Total features: 424 + 16 = 440\n",
    "4. Dense layers: 256 -> 128\n",
    "5. Output layer: [N, 2389]\n",
    "\n",
    "#### Option 2: Separate Processing\n",
    "\n",
    "1. Process each filter type through additional Conv1d (16 features each)\n",
    "2. 8 parallel paths of length 16,  more features\n",
    "3. Concatenate with special cards features (16)\n",
    "4. Total features: Not sure, a lot\n",
    "5. Dense layers: 256 -> 128\n",
    "6. Output layer: [N, 2389]\n",
    "\n",
    "### Key Features\n",
    "\n",
    "+ Color invariance through ColorInvariantConv in first layer\n",
    "+ Game-specific filter sizes capturing relevant patterns\n",
    "+ Separate processing of special cards\n",
    "+ Direct modeling of joint probability distribution over 2389 valid combinations\n",
    "+ No padding in convolutions to preserve pattern semantics\n",
    "<img src=\"./model-comparison.svg\" />"
   ]
  },
  {
   "cell_type": "code",
   "execution_count": 9,
   "id": "77e28d1c-162e-4609-aa70-6c737cb5cb1b",
   "metadata": {},
   "outputs": [
    {
     "ename": "ModuleNotFoundError",
     "evalue": "No module named 'torch'",
     "output_type": "error",
     "traceback": [
      "\u001b[1;31m---------------------------------------------------------------------------\u001b[0m",
      "\u001b[1;31mModuleNotFoundError\u001b[0m                       Traceback (most recent call last)",
      "Cell \u001b[1;32mIn[9], line 1\u001b[0m\n\u001b[1;32m----> 1\u001b[0m \u001b[38;5;28;01mimport\u001b[39;00m\u001b[38;5;250m \u001b[39m\u001b[38;5;21;01mtorch\u001b[39;00m\n\u001b[0;32m      2\u001b[0m \u001b[38;5;28;01mimport\u001b[39;00m\u001b[38;5;250m \u001b[39m\u001b[38;5;21;01mtorch\u001b[39;00m\u001b[38;5;21;01m.\u001b[39;00m\u001b[38;5;21;01mnn\u001b[39;00m\u001b[38;5;250m \u001b[39m\u001b[38;5;28;01mas\u001b[39;00m\u001b[38;5;250m \u001b[39m\u001b[38;5;21;01mnn\u001b[39;00m\n\u001b[0;32m      4\u001b[0m \u001b[38;5;28;01mclass\u001b[39;00m\u001b[38;5;250m \u001b[39m\u001b[38;5;21;01mColorInvariantConv\u001b[39;00m(nn\u001b[38;5;241m.\u001b[39mModule):\n",
      "\u001b[1;31mModuleNotFoundError\u001b[0m: No module named 'torch'"
     ]
    }
   ],
   "source": [
    "import torch\n",
    "import torch.nn as nn\n",
    "\n",
    "class ColorInvariantConv(nn.Module):\n",
    "    def __init__(self, in_channels, out_channels, kernel_size):\n",
    "        super().__init__()\n",
    "        self.conv = nn.Conv2d(in_channels, out_channels, kernel_size)\n",
    "        \n",
    "        # Generate all possible color permutations (4! = 24)\n",
    "        self.color_perms = list(itertools.permutations(range(4)))\n",
    "        \n",
    "    def forward(self, x):\n",
    "        # x shape: [batch_size, in_channels, 4, 13]\n",
    "        batch_size = x.size(0)\n",
    "        \n",
    "        # Apply convolution to each color permutation\n",
    "        outputs = []\n",
    "        for perm in self.color_perms:\n",
    "            # Permute the colors (dim=2 is the color dimension)\n",
    "            x_perm = x[:, :, perm, :]\n",
    "            out = self.conv(x_perm)\n",
    "            outputs.append(out)\n",
    "            \n",
    "        # Average over all permutations\n",
    "        # Stack along a new dimension and then mean over it\n",
    "        return torch.stack(outputs).mean(0)"
   ]
  }
 ],
 "metadata": {
  "kernelspec": {
   "display_name": "Python 3 (ipykernel)",
   "language": "python",
   "name": "python3"
  },
  "language_info": {
   "codemirror_mode": {
    "name": "ipython",
    "version": 3
   },
   "file_extension": ".py",
   "mimetype": "text/x-python",
   "name": "python",
   "nbconvert_exporter": "python",
   "pygments_lexer": "ipython3",
   "version": "3.12.4"
  }
 },
 "nbformat": 4,
 "nbformat_minor": 5
}
